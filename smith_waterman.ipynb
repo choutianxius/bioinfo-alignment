{
 "cells": [
  {
   "cell_type": "markdown",
   "id": "a3ce14e8-9145-458f-afea-8313be1441a2",
   "metadata": {},
   "source": [
    "# Alignment 2: Smith-Waterman Algorithm\n",
    "\n",
    "The Needleman-Wunsch algorithm finds the optimal **global** alignment of the two given sequence.\n",
    "\n",
    "At many times, however, a local alignment is more desirable than a global one. Say, you are mapping a short sequence (no more than 100 letters) onto a large sequence (say 1000 letters). If there is an exact match of the short sequence in the longer sequence, it is better to find this exact match. However the global Needle-Wunsch algorithm is easily influenced by sub-sequences out of the exact matching region, so that a different alignment is often produced.\n",
    "\n",
    "~~~\n",
    "sequence1 is \n",
    "sequence2 is\n",
    "local alignment:\n",
    "nw (global) alignment: check the previous notebook\n",
    "~~~\n",
    "\n",
    "The Smith-Waterman algorithm finds the optimal **local** alignment of the two given sequence. It can be seen as a variation of the Needleman-Wunsch algorithm. Two main distinctions are made:\n",
    "\n",
    "- If the value of a cell in the score matrix is negative, it is set to zero;\n",
    "- The trace back begins from the cell that has the highest score, and ends when a cell whose score is 0 is encountered."
   ]
  },
  {
   "cell_type": "markdown",
   "id": "632f2a82-9335-4fc8-9e40-33027f4acae4",
   "metadata": {},
   "source": [
    "## Implementation"
   ]
  },
  {
   "cell_type": "code",
   "execution_count": null,
   "id": "7047c330-779e-4901-b033-ee46b2d9bce4",
   "metadata": {},
   "outputs": [],
   "source": [
    "import numpy as np"
   ]
  },
  {
   "cell_type": "code",
   "execution_count": null,
   "id": "250a5772-b55d-415b-ac9f-1fdaeb643c43",
   "metadata": {},
   "outputs": [],
   "source": [
    "def smith_waterman(seq1:str, seq2:str, match:int=1, mismatch:int=0, gap:int=-1) -> None:\n",
    "    \n",
    "    '''\n",
    "    Needleman-Wunsch aligment algorithm implementation, prints the aligment\n",
    "    Args:\n",
    "        seq1 (str): first sequence, it will appear on the first line of the aligment\n",
    "        seq2 (str): second sequence\n",
    "        match (int): score for a match\n",
    "        mismatch (int): score for a mismatch\n",
    "        gap (int): score for a gap, usually negative\n",
    "    '''\n",
    "    \n",
    "    pass"
   ]
  },
  {
   "cell_type": "markdown",
   "id": "97202b4b-8ce0-47ac-bfde-27bd2e088daa",
   "metadata": {},
   "source": [
    "## Tests"
   ]
  },
  {
   "cell_type": "code",
   "execution_count": null,
   "id": "6685ab22-5ac0-4dc5-997b-206608707788",
   "metadata": {},
   "outputs": [],
   "source": [
    "seq1 = ''\n",
    "seq2 = ''\n",
    "smith_waterman(seq1, seq2)"
   ]
  }
 ],
 "metadata": {
  "kernelspec": {
   "display_name": "Python 3 (ipykernel)",
   "language": "python",
   "name": "python3"
  },
  "language_info": {
   "codemirror_mode": {
    "name": "ipython",
    "version": 3
   },
   "file_extension": ".py",
   "mimetype": "text/x-python",
   "name": "python",
   "nbconvert_exporter": "python",
   "pygments_lexer": "ipython3",
   "version": "3.10.4"
  }
 },
 "nbformat": 4,
 "nbformat_minor": 5
}
