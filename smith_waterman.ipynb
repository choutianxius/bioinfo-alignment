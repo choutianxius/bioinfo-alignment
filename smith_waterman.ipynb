{
 "cells": [
  {
   "cell_type": "markdown",
   "id": "a3ce14e8-9145-458f-afea-8313be1441a2",
   "metadata": {},
   "source": [
    "# Alignment 2: Smith-Waterman Algorithm\n",
    "\n",
    "The Needleman-Wunsch algorithm finds the optimal **global** alignment of the two given sequence.\n",
    "\n",
    "At many times, however, a local alignment is more desirable than a global one. Say, you are mapping a short sequence (no more than 100 letters) onto a large sequence (say 1000 letters). If there is an exact match of the short sequence in the longer sequence, it is better to find this exact match. However the global Needle-Wunsch algorithm is easily influenced by sub-sequences out of the exact matching region, so that a different alignment is often produced.\n",
    "\n",
    "~~~\n",
    "sequence1 is \n",
    "sequence2 is\n",
    "local alignment:\n",
    "nw (global) alignment: check the previous notebook\n",
    "~~~\n",
    "\n",
    "The Smith-Waterman algorithm finds the optimal **local** alignment of the two given sequence. It can be seen as a variation of the Needleman-Wunsch algorithm. Two main distinctions are made:\n",
    "\n",
    "- If the value of a cell in the score matrix is negative, it is set to zero;\n",
    "- The trace back begins from the cell that has the highest score, and ends when a cell whose score is 0 is encountered."
   ]
  },
  {
   "cell_type": "markdown",
   "id": "632f2a82-9335-4fc8-9e40-33027f4acae4",
   "metadata": {},
   "source": [
    "## Implementation"
   ]
  },
  {
   "cell_type": "code",
   "execution_count": null,
   "id": "7047c330-779e-4901-b033-ee46b2d9bce4",
   "metadata": {},
   "outputs": [],
   "source": [
    "import numpy as np"
   ]
  },
  {
   "cell_type": "code",
   "execution_count": null,
   "id": "185dddf8-bccd-4623-a583-d28dd1ff030d",
   "metadata": {},
   "outputs": [],
   "source": [
    "def smith_waterman(seq1:str, seq2:str, match:int=1, mismatch:int=-1, gap:int=-2) -> None:\n",
    "    \n",
    "    '''\n",
    "    Needleman-Wunsch aligment algorithm implementation, prints the aligment\n",
    "    Args:\n",
    "        seq1 (str): first sequence, it will appear on the first line of the aligment\n",
    "        seq2 (str): second sequence\n",
    "        match (int): score for a match\n",
    "        mismatch (int): score for a mismatch\n",
    "        gap (int): score for a gap, usually negative\n",
    "    '''\n",
    "    \n",
    "    m, n = len(seq1), len(seq2)\n",
    "    score_matrix = np.zeros((m+1, n+1))\n",
    "    path_matrix = np.zeros((m+1, n+1))\n",
    "    \n",
    "    path = {\n",
    "        'diagonal': 1,\n",
    "        'down': 2,\n",
    "        'right': 3\n",
    "    }\n",
    "    \n",
    "    # initialize\n",
    "    score_matrix[:, 0] = np.zeros(m+1)\n",
    "    score_matrix[0, :] = np.zeros(n+1)\n",
    "    path_matrix[1:, 0] = np.full(m, path['down'])\n",
    "    path_matrix[0, 1:] = np.full(n, path['right'])\n",
    "    score_max, max_i, max_j = 0, 0, 0\n",
    "    \n",
    "    # fill the matrices\n",
    "    for i in range(1, m+1):\n",
    "        for j in range(1, n+1):\n",
    "            if seq1[i-1] == seq2[j-1]: \n",
    "                score_diagonal = score_matrix[i-1, j-1] + match\n",
    "            else:\n",
    "                score_diagonal = score_matrix[i-1, j-1] + mismatch\n",
    "            score_down = score_matrix[i-1, j] + gap\n",
    "            score_right = score_matrix[i, j-1] + gap\n",
    "            score = max(score_diagonal, score_down, score_right)\n",
    "            if score >= score_max:\n",
    "                score_max = score\n",
    "                max_i = i\n",
    "                max_j = j\n",
    "            score_matrix[i, j] = max(score, 0)\n",
    "            \n",
    "            # when multiple paths are available, priority: diagonal > down > right\n",
    "            if score >=0:\n",
    "                if score == score_diagonal:\n",
    "                    path_matrix[i, j] = path['diagonal']\n",
    "                elif score == score_down:\n",
    "                    path_matrix[i, j] = path['down']\n",
    "                elif score == score_right:\n",
    "                    path_matrix[i, j] = path['right']\n",
    "    \n",
    "    # trace back\n",
    "    trace_i, trace_j = max_i, max_j\n",
    "    alignment_1, alignment_2, alignment_3 = [], [], [] # print in three rows\n",
    "    alignment_1.append(' '+str(trace_i))\n",
    "    alignment_2.append('  ')\n",
    "    alignment_3.append(' '+str(trace_j))\n",
    "    while trace_i > 0 or trace_j > 0:\n",
    "        if score_matrix[trace_i, trace_j] == 0:\n",
    "            break\n",
    "        if path_matrix[trace_i, trace_j] == path['diagonal']:\n",
    "            alignment_1.append(seq1[trace_i-1])\n",
    "            if seq1[trace_i-1] == seq2[trace_j-1]:\n",
    "                alignment_2.append('|')\n",
    "            else:\n",
    "                alignment_2.append(' ')\n",
    "            alignment_3.append(seq2[trace_j-1])\n",
    "            trace_i -= 1\n",
    "            trace_j -= 1\n",
    "        elif path_matrix[trace_i, trace_j] == path['down']:\n",
    "            alignment_1.append(seq1[trace_i-1])\n",
    "            alignment_2.append(' ')\n",
    "            alignment_3.append('-')\n",
    "            trace_i -= 1\n",
    "        elif path_matrix[trace_i, trace_j] == path['right']:\n",
    "            alignment_1.append('-')\n",
    "            alignment_2.append(' ')\n",
    "            alignment_3.append(seq2[trace_j-1])\n",
    "            trace_j -= 1\n",
    "    alignment_1.append(str(trace_i)+' ')\n",
    "    alignment_2.append('  ')\n",
    "    alignment_3.append(str(trace_j)+' ')\n",
    "    \n",
    "    # print the result\n",
    "    alignment_1.reverse()\n",
    "    alignment_2.reverse()\n",
    "    alignment_3.reverse()\n",
    "    alignment = ('').join(alignment_1) + '\\n' + ('').join(alignment_2) + '\\n' + ('').join(alignment_3) + '\\n'\n",
    "    print(alignment)\n",
    "    print('score matrix')\n",
    "    print(score_matrix)\n",
    "    print('path matrix')\n",
    "    print(path_matrix)"
   ]
  },
  {
   "cell_type": "markdown",
   "id": "97202b4b-8ce0-47ac-bfde-27bd2e088daa",
   "metadata": {},
   "source": [
    "## Tests"
   ]
  },
  {
   "cell_type": "code",
   "execution_count": null,
   "id": "6685ab22-5ac0-4dc5-997b-206608707788",
   "metadata": {},
   "outputs": [],
   "source": [
    "seq1 = 'needleman'\n",
    "seq2 = 'neadlmen'\n",
    "smith_waterman(seq1, seq2)"
   ]
  },
  {
   "cell_type": "code",
   "execution_count": null,
   "id": "cda9f2bb-580f-45c5-a3a3-ce8f7b31a7ec",
   "metadata": {},
   "outputs": [],
   "source": [
    "smith_waterman(seq1, seq2, gap=-1)"
   ]
  },
  {
   "cell_type": "code",
   "execution_count": null,
   "id": "0cab18e9-a5c6-4457-9032-c9257a8923c2",
   "metadata": {},
   "outputs": [],
   "source": [
    "seq3 = 'ACGGTAC'\n",
    "seq4 = 'TTTTACGGTACTTTT'\n",
    "smith_waterman(seq3, seq4)"
   ]
  },
  {
   "cell_type": "code",
   "execution_count": null,
   "id": "6c64bff0-8853-4f99-896c-f8bbb92b1b51",
   "metadata": {},
   "outputs": [],
   "source": []
  }
 ],
 "metadata": {
  "kernelspec": {
   "display_name": "Python 3 (ipykernel)",
   "language": "python",
   "name": "python3"
  },
  "language_info": {
   "codemirror_mode": {
    "name": "ipython",
    "version": 3
   },
   "file_extension": ".py",
   "mimetype": "text/x-python",
   "name": "python",
   "nbconvert_exporter": "python",
   "pygments_lexer": "ipython3",
   "version": "3.10.5"
  }
 },
 "nbformat": 4,
 "nbformat_minor": 5
}
