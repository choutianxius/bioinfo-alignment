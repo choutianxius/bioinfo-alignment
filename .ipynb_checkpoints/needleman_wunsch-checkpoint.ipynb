{
 "cells": [
  {
   "cell_type": "markdown",
   "id": "c962ed55-e3af-40ba-9023-62e188b8e4d4",
   "metadata": {
    "tags": []
   },
   "source": [
    "# Alignment 1: Needleman-Wunsch Algorithm\n",
    "\n",
    "The Needleman-Wunsch algorithm finds the optimal **global** alignment of two given sequences. \"Optimal\" is defined by the scoring strategy provided by the user."
   ]
  },
  {
   "cell_type": "markdown",
   "id": "785f9e18-26ac-458e-9ce1-29e5a2ab1f9e",
   "metadata": {},
   "source": [
    "## Problem Statement\n",
    "\n",
    "Though the problem stated here is usually from biological context, the algorithm can be used to solve more general problems. You may encounter problems like \"computing the distance between two words\". That's essentially an almost identical problem.\n",
    "\n",
    "Consider two words, or sequences of elements from the English alphabet: \"needleman\" and \"neadlman\". To align the two words is equal to the following problem: how to change \"neadlman\", with minimum number of steps of modification, so that it is transformed into \"needleman\"? One step of modification is defined to either change a single letter of the word, or insert a single letter into the word, or delete a letter from the word.\n",
    "\n",
    "The solution should be simple: we can change the first \"a\" of \"neadlman\" into an \"e\", and insert an \"e\" after the \"l\", so \"neadlman\" is converted into \"needleman\". The process can be visualized as below:\n",
    "\n",
    "~~~\n",
    "needleman\n",
    "|| || |||\n",
    "neadl-man\n",
    "~~~\n",
    "\n",
    "Where a \"|\" indicates a match, and a \"-\" indicates a deletion or insertion (depending on the reference).\n",
    "\n",
    "In biology, instead of general words, we often want to align sequences like DNA, RNA or peptides, so that the similarity (which is often referred to as homology) between the sequences are revealed. A biologist may also want to align a sequence to a large database like the human genome, so that similary sequences in the database are discovered.\n",
    "\n",
    "To evaluate different alignments and find the optimal one(s), a scoring system is used. For example, you may add the alignment score by 1 for a match, add by 0 for a mismatch, and decrease the score by 1 for a gap (penalty). The alignment with the highest score is defined as optimal."
   ]
  },
  {
   "cell_type": "markdown",
   "id": "8a2fa41f-d352-484a-9394-772e0d4bddee",
   "metadata": {},
   "source": [
    "## Brute-Force Way and Why It Is Impractical\n",
    "\n",
    "The brute-force method is to list all possible alignments, calculate their scores one by one, and return the alignment with the highest score.\n",
    "\n",
    "With intercalation (please refer to the slides), the problem of listing of all alignments is turned into a combinatorial problem. Suppose the lengths of the two sequences are m and n. There are (m+n)C(n) = (m+n)C(m) = (m+n)!/(m!\\*n!) possible alignments. When one of m or n is fixed, it is near factorial time and space complexity. Bad! "
   ]
  },
  {
   "cell_type": "markdown",
   "id": "0dfae913-0fc3-42a0-b2f7-9bf2d990010c",
   "metadata": {},
   "source": [
    "## Needleman-Wunch Algorithm Explained\n",
    "\n",
    "The Needleman-Wunch (referred to as nw below) algorithm finds the **global** optimal alignment of two sequences. It uses dynamic programming. The key idea is that, if sequences before the current letter have already been optimally aligned, the current letter must be optimally aligned, so that the alignment remains optimal (along its path, thought it maybe not optimal compared with sibling paths).\n",
    "\n",
    "In general the nw algorithm contains 3 steps:\n",
    "\n",
    "- Matrix initialization\n",
    "- Matrix filling\n",
    "- Trace back (to find the alignment)\n",
    "\n",
    "Two matrices are used:\n",
    "\n",
    "- Score matrix\n",
    "- Path matrix\n",
    "\n",
    "Please refer to the slides for details."
   ]
  },
  {
   "cell_type": "markdown",
   "id": "2905de02-3310-4e1d-abd1-255be8be13ce",
   "metadata": {},
   "source": [
    "## Implementation"
   ]
  },
  {
   "cell_type": "code",
   "execution_count": null,
   "id": "f9052282-dd08-4fca-b93b-f7e4dc5e88ed",
   "metadata": {},
   "outputs": [],
   "source": [
    "import numpy as np\n",
    "import itertools"
   ]
  },
  {
   "cell_type": "markdown",
   "id": "9746406b-7c2c-4f44-80ec-2ff5d9ef6fdf",
   "metadata": {},
   "source": [
    "### Brute-Force"
   ]
  },
  {
   "cell_type": "code",
   "execution_count": null,
   "id": "146f021d-1a14-432d-b04b-991a10c4c800",
   "metadata": {},
   "outputs": [],
   "source": [
    "def calc_intercalation_score(intercalation, match, mismatch, gap) -> int:\n",
    "    \n",
    "    '''\n",
    "    Score calcutator for intercalations\n",
    "    Args:\n",
    "        intercalation (ndarray): intercalation representation of the alignment, shape: (m+n, 2)\n",
    "        match (int): score for a match\n",
    "        mismatch (int): score for a mismatch\n",
    "        gap (int): score for a gap\n",
    "    '''\n",
    "    \n",
    "    ic_uncollapsed = []\n",
    "    l = intercalation.shape[0]\n",
    "    for i in range(l):\n",
    "        ic_uncollapsed.append(intercalation[i,1])\n",
    "        if i < l-1 and intercalation[i,0] == intercalation[i+1,0]:\n",
    "            ic_uncollapsed.append('-')\n",
    "    \n",
    "    score = 0\n",
    "    for i in range(len(ic_uncollapsed) // 2):\n",
    "        idx = 2 * i\n",
    "        if ic_uncollapsed[idx] == '-':\n",
    "            score += gap\n",
    "        elif ic_uncollapsed[idx+1] == '-':\n",
    "            score += gap\n",
    "        elif ic_uncollapsed[idx] == ic_uncollapsed[idx+1]:\n",
    "            score += match\n",
    "        else:\n",
    "            score += mismatch\n",
    "    \n",
    "    return score\n",
    "    \n",
    "\n",
    "    \n",
    "def print_intercalation(intercalation) -> None:\n",
    "    \n",
    "    '''\n",
    "    Print the alignment according to the intercalation representation\n",
    "    Args:\n",
    "        intercalation (ndarray): intercalation representation of the alignment, shape (m+n, 2)\n",
    "    '''\n",
    "    \n",
    "    l = intercalation.shape[0]\n",
    "    ic_uncollapsed = []\n",
    "    for i in range(l):\n",
    "        ic_uncollapsed.append(intercalation[i,1])\n",
    "        if i < l-1 and intercalation[i,0] == intercalation[i+1,0]:\n",
    "            ic_uncollapsed.append('-')\n",
    "            \n",
    "    line1, line2, line3 = '', '', ''\n",
    "    for i in range(len(ic_uncollapsed) // 2):\n",
    "        idx = 2 * i\n",
    "        line1 += ic_uncollapsed[idx]\n",
    "        line3 += ic_uncollapsed[idx+1]\n",
    "        if ic_uncollapsed[idx] == ic_uncollapsed[idx+1]:\n",
    "            line2 += '|'\n",
    "        else:\n",
    "            line2 += ' '\n",
    "            \n",
    "    if intercalation[0, 0] == 0:\n",
    "        print(f'{line1}\\n{line2}\\n{line3}\\n')\n",
    "    else:\n",
    "        print(f'{line3}\\n{line2}\\n{line1}\\n')\n",
    "    \n",
    "    \n",
    "\n",
    "def brute_force(seq1:str, seq2:str, match:int=1, mismatch:int=0, gap:int=-1) -> None:\n",
    "    \n",
    "    '''\n",
    "    Brute-Force aligment algorithm implementation, prints the aligment\n",
    "    Args:\n",
    "        seq1 (str): first sequence, it will appear on the first line of the aligment\n",
    "        seq2 (str): second sequence\n",
    "        match (int): score for a match\n",
    "        mismatch (int): score for a mismatch\n",
    "        gap (int): score for a gap, usually negative\n",
    "    '''\n",
    "    \n",
    "    m, n = len(seq1), len(seq2)\n",
    "    optimal_ic, max_score = None, None\n",
    "    \n",
    "    for indices in itertools.combinations(list(range(m+n)), m):\n",
    "        intercalation = np.ndarray((m+n, 2), dtype=object)\n",
    "        i, j, idx = 0, 0, 0\n",
    "        while idx < m+n:\n",
    "            if idx in indices:\n",
    "                intercalation[idx] = [0, seq1[i]]\n",
    "                i += 1\n",
    "            else:\n",
    "                intercalation[idx] = [1, seq2[j]]\n",
    "                j += 1\n",
    "            idx += 1\n",
    "        \n",
    "        score = calc_intercalation_score(intercalation, match, mismatch, gap)\n",
    "        if optimal_ic is None or score >= max_score:\n",
    "            optimal_ic = intercalation\n",
    "            max_score = score\n",
    "    \n",
    "    print_intercalation(optimal_ic)"
   ]
  },
  {
   "cell_type": "code",
   "execution_count": null,
   "id": "cc6eea73-138a-43d9-8d99-8afe5be1f17b",
   "metadata": {},
   "outputs": [],
   "source": [
    "seq1 = 'ATCG'\n",
    "seq2 = 'ACG'\n",
    "brute_force(seq1, seq2)"
   ]
  },
  {
   "cell_type": "markdown",
   "id": "642fd2e1-2c80-4ff7-afd7-d341e8280f8b",
   "metadata": {},
   "source": [
    "### Needleman-Wunsch"
   ]
  },
  {
   "cell_type": "code",
   "execution_count": null,
   "id": "f31f92da-2ce0-4b6b-9d0b-ecd0c1bba7fa",
   "metadata": {},
   "outputs": [],
   "source": [
    "def needleman_wunsch(seq1:str, seq2:str, match:int=1, mismatch:int=0, gap:int=-1, show_matrices:bool=False) -> None:\n",
    "    \n",
    "    '''\n",
    "    Needleman-Wunsch aligment algorithm implementation, prints the aligment\n",
    "    Args:\n",
    "        seq1 (str): first sequence, it will appear on the first line of the aligment\n",
    "        seq2 (str): second sequence\n",
    "        match (int): score for a match\n",
    "        mismatch (int): score for a mismatch\n",
    "        gap (int): score for a gap, usually negative\n",
    "        show_matrices (bool): indicator of whether the score matrix and path matrix should be shown\n",
    "    '''\n",
    "    \n",
    "    m, n = len(seq1), len(seq2)\n",
    "    score_matrix = np.zeros((m+1, n+1))\n",
    "    path_matrix = np.zeros((m+1, n+1))\n",
    "    \n",
    "    path = {\n",
    "        'diagonal': 1,\n",
    "        'down': 2,\n",
    "        'right': 3\n",
    "    }\n",
    "    \n",
    "    # initialize\n",
    "    score_matrix[:, 0] = np.linspace(start=0, stop=m*gap, num=m+1)\n",
    "    score_matrix[0, :] = np.linspace(start=0, stop=n*gap, num=n+1)\n",
    "    path_matrix[1:, 0] = np.full(m, path['down'])\n",
    "    path_matrix[0, 1:] = np.full(n, path['right'])\n",
    "    \n",
    "    # fill the matrices\n",
    "    for i in range(1, m+1):\n",
    "        for j in range(1, n+1):\n",
    "            if seq1[i-1] == seq2[j-1]: \n",
    "                score_diagonal = score_matrix[i-1, j-1] + match\n",
    "            else:\n",
    "                score_diagonal = score_matrix[i-1, j-1] + mismatch\n",
    "            score_down = score_matrix[i-1, j] + gap\n",
    "            score_right = score_matrix[i, j-1] + gap\n",
    "            score_max = max(score_diagonal, score_down, score_right)\n",
    "            score_matrix[i, j] = score_max\n",
    "            \n",
    "            # when multiple paths are available, priority: diagonal > down > right\n",
    "            if score_max == score_diagonal:\n",
    "                path_matrix[i, j] = path['diagonal']\n",
    "            elif score_max == score_down:\n",
    "                path_matrix[i, j] = path['down']\n",
    "            elif score_max == score_right:\n",
    "                path_matrix[i, j] = path['right']\n",
    "    \n",
    "    # trace back\n",
    "    trace_i, trace_j = m, n\n",
    "    alignment_1, alignment_2, alignment_3 = [], [], [] # print in three rows\n",
    "    while trace_i > 0 or trace_j > 0:\n",
    "        if path_matrix[trace_i, trace_j] == path['diagonal']:\n",
    "            alignment_1.append(seq1[trace_i-1])\n",
    "            if seq1[trace_i-1] == seq2[trace_j-1]:\n",
    "                alignment_2.append('|')\n",
    "            else:\n",
    "                alignment_2.append(' ')\n",
    "            alignment_3.append(seq2[trace_j-1])\n",
    "            trace_i -= 1\n",
    "            trace_j -= 1\n",
    "        elif path_matrix[trace_i, trace_j] == path['down']:\n",
    "            alignment_1.append(seq1[trace_i-1])\n",
    "            alignment_2.append(' ')\n",
    "            alignment_3.append('-')\n",
    "            trace_i -= 1\n",
    "        elif path_matrix[trace_i, trace_j] == path['right']:\n",
    "            alignment_1.append('-')\n",
    "            alignment_2.append(' ')\n",
    "            alignment_3.append(seq2[trace_j-1])\n",
    "            trace_j -= 1\n",
    "    \n",
    "    # print the result\n",
    "    alignment_1.reverse()\n",
    "    alignment_2.reverse()\n",
    "    alignment_3.reverse()\n",
    "    alignment = ('').join(alignment_1) + '\\n' + ('').join(alignment_2) + '\\n' + ('').join(alignment_3) + '\\n'\n",
    "    print(alignment)\n",
    "    if show_matrices:\n",
    "        print('\\nscore matrix')\n",
    "        print(score_matrix)\n",
    "        print('\\npath matrix')\n",
    "        print(path_matrix)"
   ]
  },
  {
   "cell_type": "markdown",
   "id": "7e037107-d796-40cc-9af3-f74758269a20",
   "metadata": {},
   "source": [
    "## Tests"
   ]
  },
  {
   "cell_type": "code",
   "execution_count": null,
   "id": "43c8c273-4f3b-43b9-a073-c5504f92acf0",
   "metadata": {},
   "outputs": [],
   "source": [
    "seq1 = 'needleman'\n",
    "seq2 = 'neadlmen'\n",
    "needleman_wunsch(seq1, seq2)"
   ]
  },
  {
   "cell_type": "code",
   "execution_count": null,
   "id": "e19ac74f-ef80-4ec8-aeab-43cc7d7d3df6",
   "metadata": {},
   "outputs": [],
   "source": [
    "seq1 = 'ATCG'\n",
    "seq2 = 'ACG'\n",
    "needleman_wunsch(seq1, seq2, show_matrices=True)"
   ]
  },
  {
   "cell_type": "code",
   "execution_count": null,
   "id": "a8f21b9f-8089-4121-8061-d83e1811c744",
   "metadata": {},
   "outputs": [],
   "source": [
    "seq1 = 'ACTTGCAGATTACGGACATAGACG'\n",
    "seq2 = 'ACAGATATTACGGACATGGCC'\n",
    "needleman_wunsch(seq1, seq2)"
   ]
  },
  {
   "cell_type": "markdown",
   "id": "662a29e5-5d29-4938-944a-8dcd3b0e6399",
   "metadata": {},
   "source": [
    "## Running Time Comparison Between Brute-Force and Needleman-Wunsch "
   ]
  },
  {
   "cell_type": "code",
   "execution_count": null,
   "id": "da5284aa-e7ee-4a8a-ae9b-181ba02537a9",
   "metadata": {},
   "outputs": [],
   "source": [
    "import time\n",
    "\n",
    "seq1 = 'TTACGGACAT'\n",
    "seq2 = 'TTACGAACAT'\n",
    "\n",
    "t1 = time.time()\n",
    "needleman_wunsch(seq1, seq2)\n",
    "t2 = time.time()\n",
    "print(t2-t1)\n",
    "\n",
    "t1 = time.time()\n",
    "brute_force(seq1, seq2)\n",
    "t2 = time.time()\n",
    "print(t2-t1)"
   ]
  },
  {
   "cell_type": "code",
   "execution_count": null,
   "id": "8ea11885-2dec-48b5-a93b-0e3c456cfa42",
   "metadata": {},
   "outputs": [],
   "source": []
  }
 ],
 "metadata": {
  "kernelspec": {
   "display_name": "Python 3 (ipykernel)",
   "language": "python",
   "name": "python3"
  },
  "language_info": {
   "codemirror_mode": {
    "name": "ipython",
    "version": 3
   },
   "file_extension": ".py",
   "mimetype": "text/x-python",
   "name": "python",
   "nbconvert_exporter": "python",
   "pygments_lexer": "ipython3",
   "version": "3.10.5"
  },
  "vscode": {
   "interpreter": {
    "hash": "26de051ba29f2982a8de78e945f0abaf191376122a1563185a90213a26c5da77"
   }
  }
 },
 "nbformat": 4,
 "nbformat_minor": 5
}
