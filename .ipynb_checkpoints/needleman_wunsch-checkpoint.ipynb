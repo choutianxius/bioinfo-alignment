{
 "cells": [
  {
   "cell_type": "markdown",
   "id": "c962ed55-e3af-40ba-9023-62e188b8e4d4",
   "metadata": {
    "tags": []
   },
   "source": [
    "# Alignment 1: Needleman-Wunsch Algorithm\n",
    "\n",
    "The Needleman-Wunsch algorithm finds the optimal **global** alignment of two given sequences. \"Optimal\" is defined by the scoring strategy provided by the user."
   ]
  },
  {
   "cell_type": "markdown",
   "id": "785f9e18-26ac-458e-9ce1-29e5a2ab1f9e",
   "metadata": {},
   "source": [
    "## Problem Statement\n",
    "\n",
    "Though the problem stated here is usually from biological context, the algorithm can be used to solve more general problems. You may encounter problems like \"computing the distance between two words\". That's essentially an almost identical problem.\n",
    "\n",
    "Consider two words, or sequences of elements from the English alphabet: \"needleman\" and \"neadlman\". To align the two words is equal to the following problem: how to change \"neadlman\", with minimum number of steps of modification, so that it is transformed into \"needleman\"? One step of modification is defined to either change a single letter of the word, or insert a single letter into the word, or delete a letter from the word.\n",
    "\n",
    "The solution should be simple: we can change the first \"a\" of \"neadlman\" into an \"e\", and insert an \"e\" after the \"l\", so \"neadlman\" is converted into \"needleman\". The process can be visualized as below:\n",
    "\n",
    "~~~\n",
    "needleman\n",
    "|| || |||\n",
    "neadl-man\n",
    "~~~\n",
    "\n",
    "Where a \"|\" indicates a match, and a \"-\" indicates a deletion or insertion (depending on the reference).\n",
    "\n",
    "In biology, instead of general words, we often want to align sequences like DNA, RNA or peptides, so that the similarity (which is often referred to as homology) between the sequences are revealed. A biologist may also want to align a sequence to a large database like the human genome, so that similary sequences in the database are discovered.\n",
    "\n",
    "To evaluate different alignments and find the optimal one(s), a scoring system is used. For example, you may add the alignment score by 1 for a match, add by 0 for a mismatch, and decrease the score by 1 for a gap (penalty). The alignment with the highest score is defined as optimal."
   ]
  },
  {
   "cell_type": "markdown",
   "id": "8a2fa41f-d352-484a-9394-772e0d4bddee",
   "metadata": {},
   "source": [
    "## Brute-Force Way and Why It Is Impractical\n",
    "\n",
    "The brute-force method is to list all possible alignments, calculate their scores one by one, and return the alignment with the highest score.\n",
    "\n",
    "With intercalation (please refer to the slides), the problem of listing of all alignments is turned into a combinatorial problem. Suppose the lengths of the two sequences are m and n. There are (m+n)C(n) = (m+n)C(m) = (m+n)!/(m!\\*n!) possible alignments. When one of m or n is fixed, it is near factorial time and space complexity. Bad! "
   ]
  },
  {
   "cell_type": "markdown",
   "id": "0dfae913-0fc3-42a0-b2f7-9bf2d990010c",
   "metadata": {},
   "source": [
    "## Needleman-Wunch Algorithm Explained\n",
    "\n",
    "The Needleman-Wunch (referred to as nw below) algorithm finds the **global** optimal alignment of two sequences. It uses dynamic programming. The key idea is that, if sequences before the current letter have already been optimally aligned, the current letter must be optimally aligned, so that the alignment remains optimal (along its path, thought it maybe not optimal compared with sibling paths).\n",
    "\n",
    "In general the nw algorithm contains 3 steps:\n",
    "\n",
    "- Matrix initialization\n",
    "- Matrix filling\n",
    "- Trace back (to find the alignment)\n",
    "\n",
    "Two matrices are used:\n",
    "\n",
    "- Score matrix\n",
    "- Path matrix\n",
    "\n",
    "Please refer to the slides for details."
   ]
  },
  {
   "cell_type": "markdown",
   "id": "2905de02-3310-4e1d-abd1-255be8be13ce",
   "metadata": {},
   "source": [
    "## Implementation"
   ]
  },
  {
   "cell_type": "code",
   "execution_count": null,
   "id": "f9052282-dd08-4fca-b93b-f7e4dc5e88ed",
   "metadata": {},
   "outputs": [],
   "source": [
    "import numpy as np"
   ]
  },
  {
   "cell_type": "code",
   "execution_count": null,
   "id": "f31f92da-2ce0-4b6b-9d0b-ecd0c1bba7fa",
   "metadata": {},
   "outputs": [],
   "source": [
    "def needleman_wunsch(seq1:str, seq2:str, match:int=1, mismatch:int=0, gap:int=-1, show_matrices:bool=False) -> None:\n",
    "    \n",
    "    '''\n",
    "    Needleman-Wunsch aligment algorithm implementation, prints the aligment\n",
    "    Args:\n",
    "        seq1 (str): first sequence, it will appear on the first line of the aligment\n",
    "        seq2 (str): second sequence\n",
    "        match (int): score for a match\n",
    "        mismatch (int): score for a mismatch\n",
    "        gap (int): score for a gap, usually negative\n",
    "    '''\n",
    "    \n",
    "    m, n = len(seq1), len(seq2)\n",
    "    score_matrix = np.zeros((m+1, n+1))\n",
    "    path_matrix = np.zeros((m+1, n+1))\n",
    "    \n",
    "    path = {\n",
    "        'diagonal': 1,\n",
    "        'down': 2,\n",
    "        'right': 3\n",
    "    }\n",
    "    \n",
    "    # initialize\n",
    "    score_matrix[:, 0] = np.linspace(start=0, stop=m*gap, num=m+1)\n",
    "    score_matrix[0, :] = np.linspace(start=0, stop=n*gap, num=n+1)\n",
    "    path_matrix[1:, 0] = np.full(m, path['down'])\n",
    "    path_matrix[0, 1:] = np.full(n, path['right'])\n",
    "    \n",
    "    # fill the matrices\n",
    "    for i in range(1, m+1):\n",
    "        for j in range(1, n+1):\n",
    "            if seq1[i-1] == seq2[j-1]: \n",
    "                score_diagonal = score_matrix[i-1, j-1] + match\n",
    "            else:\n",
    "                score_diagonal = score_matrix[i-1, j-1] + mismatch\n",
    "            score_down = score_matrix[i-1, j] + gap\n",
    "            score_right = score_matrix[i, j-1] + gap\n",
    "            score_max = max(score_diagonal, score_down, score_right)\n",
    "            score_matrix[i, j] = score_max\n",
    "            \n",
    "            # when multiple paths are available, priority: diagonal > down > right\n",
    "            if score_max == score_diagonal:\n",
    "                path_matrix[i, j] = path['diagonal']\n",
    "            elif score_max == score_down:\n",
    "                path_matrix[i, j] = path['down']\n",
    "            elif score_max == score_right:\n",
    "                path_matrix[i, j] = path['right']\n",
    "    \n",
    "    # trace back\n",
    "    trace_i, trace_j = m, n\n",
    "    alignment_1, alignment_2, alignment_3 = [], [], [] # print in three rows\n",
    "    while trace_i > 0 or trace_j > 0:\n",
    "        if path_matrix[trace_i, trace_j] == path['diagonal']:\n",
    "            alignment_1.append(seq1[trace_i-1])\n",
    "            if seq1[trace_i-1] == seq2[trace_j-1]:\n",
    "                alignment_2.append('|')\n",
    "            else:\n",
    "                alignment_2.append(' ')\n",
    "            alignment_3.append(seq2[trace_j-1])\n",
    "            trace_i -= 1\n",
    "            trace_j -= 1\n",
    "        elif path_matrix[trace_i, trace_j] == path['down']:\n",
    "            alignment_1.append(seq1[trace_i-1])\n",
    "            alignment_2.append(' ')\n",
    "            alignment_3.append('-')\n",
    "            trace_i -= 1\n",
    "        elif path_matrix[trace_i, trace_j] == path['right']:\n",
    "            alignment_1.append('-')\n",
    "            alignment_2.append(' ')\n",
    "            alignment_3.append(seq2[trace_j-1])\n",
    "            trace_j -= 1\n",
    "    \n",
    "    # print the result\n",
    "    alignment_1.reverse()\n",
    "    alignment_2.reverse()\n",
    "    alignment_3.reverse()\n",
    "    alignment = ('').join(alignment_1) + '\\n' + ('').join(alignment_2) + '\\n' + ('').join(alignment_3) + '\\n'\n",
    "    print(alignment)\n",
    "    if show_matrices:\n",
    "        print('\\nscore matrix')\n",
    "        print(score_matrix)\n",
    "        print('\\npath matrix')\n",
    "        print(path_matrix)"
   ]
  },
  {
   "cell_type": "markdown",
   "id": "7e037107-d796-40cc-9af3-f74758269a20",
   "metadata": {},
   "source": [
    "## Tests"
   ]
  },
  {
   "cell_type": "code",
   "execution_count": null,
   "id": "43c8c273-4f3b-43b9-a073-c5504f92acf0",
   "metadata": {},
   "outputs": [],
   "source": [
    "seq1 = 'needleman'\n",
    "seq2 = 'neadlmen'\n",
    "needleman_wunsch(seq1, seq2)"
   ]
  },
  {
   "cell_type": "code",
   "execution_count": null,
   "id": "e19ac74f-ef80-4ec8-aeab-43cc7d7d3df6",
   "metadata": {},
   "outputs": [],
   "source": [
    "seq1 = 'ATCG'\n",
    "seq2 = 'ACG'\n",
    "needleman_wunsch(seq1, seq2, show_matrices=True)"
   ]
  },
  {
   "cell_type": "code",
   "execution_count": null,
   "id": "a8f21b9f-8089-4121-8061-d83e1811c744",
   "metadata": {},
   "outputs": [],
   "source": [
    "seq1 = 'ACTTGCAGATTACGGACATAGACG'\n",
    "seq2 = 'ACAGATATTACGGACATGGCC'\n",
    "needleman_wunsch(seq1, seq2)"
   ]
  },
  {
   "cell_type": "code",
   "execution_count": null,
   "id": "7c7bf623-0184-4cea-83a5-40455cab3a07",
   "metadata": {},
   "outputs": [],
   "source": []
  }
 ],
 "metadata": {
  "kernelspec": {
   "display_name": "Python 3 (ipykernel)",
   "language": "python",
   "name": "python3"
  },
  "language_info": {
   "codemirror_mode": {
    "name": "ipython",
    "version": 3
   },
   "file_extension": ".py",
   "mimetype": "text/x-python",
   "name": "python",
   "nbconvert_exporter": "python",
   "pygments_lexer": "ipython3",
   "version": "3.10.4"
  },
  "vscode": {
   "interpreter": {
    "hash": "26de051ba29f2982a8de78e945f0abaf191376122a1563185a90213a26c5da77"
   }
  }
 },
 "nbformat": 4,
 "nbformat_minor": 5
}
