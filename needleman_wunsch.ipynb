{
 "cells": [
  {
   "cell_type": "markdown",
   "id": "c962ed55-e3af-40ba-9023-62e188b8e4d4",
   "metadata": {
    "tags": []
   },
   "source": [
    "# Alignment 1: Needleman-Wunsch Algorithm\n",
    "\n",
    "The Needleman-Wunsch algorithm finds the optimal **global** alignment of two given sequences. \"Optimal\" is defined by the scoring strategy provided by the user."
   ]
  },
  {
   "cell_type": "markdown",
   "id": "785f9e18-26ac-458e-9ce1-29e5a2ab1f9e",
   "metadata": {},
   "source": [
    "## Problem Statement\n",
    "\n",
    "Though the problem stated here is usually from biological context, the algorithm can be used to solve more general problems. You may encounter problems like \"computing the distance between two words\". That's essentially an almost identical problem.\n",
    "\n",
    "Consider two words, or sequences of elements from the English alphabet: \"needleman\" and \"neadlman\". To align the two words is equal to the following problem: how to change \"neadlman\", with minimum number of steps of modification, so that it is transformed into \"needleman\"? One step of modification is defined to either change a single letter of the word, or insert a single letter into the word, or delete a letter from the word.\n",
    "\n",
    "The solution should be simple: we can change the first \"a\" of \"neadlman\" into an \"e\", and insert an \"e\" after the \"l\", so \"neadlman\" is converted into \"needleman\". The process can be visualized as below:\n",
    "\n",
    "~~~\n",
    "needleman\n",
    "|| || |||\n",
    "neadl-man\n",
    "~~~\n",
    "\n",
    "Where a \"|\" indicates a match, and a \"-\" indicates a deletion or insertion (depending on the reference).\n",
    "\n",
    "In biology, instead of general words, we often want to align sequences like DNA, RNA or peptides, so that the similarity (which is often referred to as homology) between the sequences are revealed. A biologist may also want to align a sequence to a large database like the human genome, so that similary sequences in the database are discovered."
   ]
  },
  {
   "cell_type": "markdown",
   "id": "0dfae913-0fc3-42a0-b2f7-9bf2d990010c",
   "metadata": {},
   "source": [
    "## Needleman-Wunch Algorithm Explained\n",
    "\n",
    "The Needleman-Wunch (referred to as nw below) algorithm finds the **global** optimal alignment of two sequences. It uses dynamic programming. The key idea is that, if sequences before the current letter have already been optimally aligned, the current letter must be optimally aligned, so that the alignment remains optimal.\n",
    "\n",
    "In general the nw algorithm contains 3 steps:\n",
    "\n",
    "- Matrix initialization\n",
    "- Matrix filling\n",
    "- Trace back (to find the alignment)\n",
    "\n",
    "Two matrices are used:\n",
    "\n",
    "- Score matrix\n",
    "- Path matrix\n",
    "\n",
    "Please refer to the slides for details."
   ]
  }
 ],
 "metadata": {
  "kernelspec": {
   "display_name": "Python 3 (ipykernel)",
   "language": "python",
   "name": "python3"
  },
  "language_info": {
   "codemirror_mode": {
    "name": "ipython",
    "version": 3
   },
   "file_extension": ".py",
   "mimetype": "text/x-python",
   "name": "python",
   "nbconvert_exporter": "python",
   "pygments_lexer": "ipython3",
   "version": "3.10.5"
  }
 },
 "nbformat": 4,
 "nbformat_minor": 5
}
